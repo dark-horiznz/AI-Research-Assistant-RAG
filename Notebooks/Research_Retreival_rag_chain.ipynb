{
 "cells": [
  {
   "cell_type": "code",
   "execution_count": 51,
   "id": "e0602492-647a-4a4e-bee6-a7948b77ded3",
   "metadata": {},
   "outputs": [],
   "source": [
    "import os\n",
    "import requests\n",
    "import pdfplumber\n",
    "from langchain_groq import ChatGroq\n",
    "import google.generativeai as genai\n",
    "from langchain.chains import create_retrieval_chain\n",
    "from langchain.chains.combine_documents import create_stuff_documents_chain\n",
    "from langchain_core.prompts import ChatPromptTemplate\n",
    "from langchain_pinecone import PineconeVectorStore\n",
    "from langchain_core.embeddings import Embeddings\n",
    "from langchain.schema import Document\n",
    "from pinecone import Pinecone\n",
    "import numpy as np\n",
    "import arxiv\n",
    "import wikipedia"
   ]
  },
  {
   "cell_type": "code",
   "execution_count": 52,
   "id": "1aec4876-8647-4b65-ba77-ebfbeb32b76e",
   "metadata": {},
   "outputs": [],
   "source": [
    "os.environ['GROQ_API_KEY'] = '<YOUR API KEY>'\n",
    "os.environ[\"GEMINI_API_KEY\"] = '<YOUR API KEY>'\n",
    "os.environ['PINECONE_API_KEY'] = '<YOUR API KEY>'\n",
    "os.environ['PINECONE_ENV'] = 'reserach-rag'"
   ]
  },
  {
   "cell_type": "code",
   "execution_count": 53,
   "id": "8c75ff9a-381e-42d8-89c3-a36864fb63dd",
   "metadata": {},
   "outputs": [],
   "source": [
    "genai.configure(api_key=os.environ[\"GEMINI_API_KEY\"])\n",
    "\n",
    "def get_gemini_model(model_name=\"gemini-pro\", temperature=0.4):\n",
    "    return genai.GenerativeModel(model_name)\n",
    "\n",
    "def generate_gemini_response(model, prompt):\n",
    "    response = model.generate_content(\n",
    "        prompt,\n",
    "        generation_config=get_generation_config(),\n",
    "        safety_settings=get_safety_settings()\n",
    "    )\n",
    "    if response.candidates and len(response.candidates) > 0:\n",
    "        return response.candidates[0].content.parts[0].text\n",
    "    return ''\n"
   ]
  },
  {
   "cell_type": "code",
   "execution_count": 54,
   "id": "67e71c20-cbe5-40cf-9704-083981c2e750",
   "metadata": {},
   "outputs": [],
   "source": [
    "def download_pdf(pdf_url, save_path=\"temp_paper.pdf\"):\n",
    "    response = requests.get(pdf_url)\n",
    "    if response.status_code == 200:\n",
    "        with open(save_path, \"wb\") as file:\n",
    "            file.write(response.content)\n",
    "        return save_path\n",
    "    return None\n",
    "\n",
    "def extract_text_from_pdf(pdf_path):\n",
    "    text = \"\"\n",
    "    with pdfplumber.open(pdf_path) as pdf:\n",
    "        for page in pdf.pages:\n",
    "            extracted_text = page.extract_text()\n",
    "            if extracted_text:\n",
    "                text += extracted_text + \"\\n\"\n",
    "    return text.strip()\n",
    "\n",
    "def summarize_text(text):\n",
    "    model = get_gemini_model()\n",
    "    prompt_text = f\"Summarize the following research paper very concisely:\\n{text[:5000]}\"  # Truncate to 5000 chars\n",
    "    summary = generate_gemini_response(model, prompt_text)\n",
    "    return summary"
   ]
  },
  {
   "cell_type": "code",
   "execution_count": 55,
   "id": "358405b1-5072-4b98-bdef-002a7b3c2f8c",
   "metadata": {},
   "outputs": [],
   "source": [
    "def search_arxiv(query, max_results=2):\n",
    "    client = arxiv.Client()\n",
    "    search = arxiv.Search(query=query, max_results=max_results, sort_by=arxiv.SortCriterion.Relevance)\n",
    "    \n",
    "    arxiv_docs = []\n",
    "    \n",
    "    for result in client.results(search):\n",
    "        pdf_link = next((link.href for link in result.links if 'pdf' in link.href), None)\n",
    "        \n",
    "        # Download, extract, and summarize PDF if link exists\n",
    "        if pdf_link:\n",
    "            pdf_path = download_pdf(pdf_link)\n",
    "            if pdf_path:\n",
    "                text = extract_text_from_pdf(pdf_path)\n",
    "                summary = summarize_text(text)\n",
    "            else:\n",
    "                summary = \"PDF could not be downloaded.\"\n",
    "        else:\n",
    "            summary = \"No PDF available.\"\n",
    "\n",
    "        content = f\"\"\"\n",
    "        **Title:** {result.title}\n",
    "        **Authors:** {', '.join(author.name for author in result.authors)}\n",
    "        **Published:** {result.published.strftime('%Y-%m-%d')}\n",
    "        **Abstract:** {result.summary}\n",
    "        **PDF Summary:** {summary}\n",
    "        **PDF Link:** {pdf_link if pdf_link else 'Not available'}\n",
    "        \"\"\"\n",
    "\n",
    "        arxiv_docs.append(Document(page_content=content, metadata={\"source\": \"arXiv\", \"title\": result.title}))\n",
    "    \n",
    "    return arxiv_docs"
   ]
  },
  {
   "cell_type": "code",
   "execution_count": 56,
   "id": "47a69f3c-9576-4f4f-82ea-95847da49d99",
   "metadata": {},
   "outputs": [],
   "source": [
    "def search_wikipedia(query, max_results=2):\n",
    "    try:\n",
    "        page_titles = wikipedia.search(query, results=max_results)\n",
    "        return [Document(page_content=wikipedia.page(title).content[:2000], metadata={\"source\": \"Wikipedia\", \"title\": title}) for title in page_titles]\n",
    "    except (wikipedia.exceptions.DisambiguationError, wikipedia.exceptions.PageError):\n",
    "        return []"
   ]
  },
  {
   "cell_type": "code",
   "execution_count": 57,
   "id": "6b35b7c3-65fd-4a83-95e8-bd66a5086029",
   "metadata": {},
   "outputs": [],
   "source": [
    "def retrieve_documents(query):\n",
    "    retrieved_docs = retriever.get_relevant_documents(query)\n",
    "    arxiv_docs = search_arxiv(query)\n",
    "    wiki_docs = search_wikipedia(query)\n",
    "\n",
    "    summarized_context = []\n",
    "    user_context = []\n",
    "    for doc in retrieved_docs:\n",
    "        user_context.append(f\"**{doc.metadata.get('source', 'Unknown Source')}**: {doc.page_content}...\")  # Truncate & keep relevant info\n",
    "\n",
    "    for doc in arxiv_docs:\n",
    "        summarized_context.append(f\"**ArXiv - {doc.metadata.get('title', 'Unknown Title')}**:\\n{doc.page_content}...\")  # Keep summary only\n",
    "\n",
    "    for doc in wiki_docs:\n",
    "        summarized_context.append(f\"**Wikipedia - {doc.metadata.get('title', 'Unknown Title')}**:\\n{doc.page_content}...\")  # Avoid full raw text\n",
    "\n",
    "    return user_context , summarized_context\n",
    "\n",
    "chain = create_retrieval_chain(retriever, question_answer_chain)"
   ]
  },
  {
   "cell_type": "code",
   "execution_count": 58,
   "id": "e55a0509-8a8c-491e-aab1-60f4cd5d3606",
   "metadata": {},
   "outputs": [],
   "source": [
    "def chat_with_llm(question):\n",
    "    user_context , summarized_context = retrieve_documents(question)\n",
    "\n",
    "    input_data = {\n",
    "        \"input\": question,\n",
    "        \"context\": \"\\n\\n\".join(user_context),  \n",
    "        \"additional_context\": \"\\n\\n\".join(summarized_context)\n",
    "    }\n",
    "    return chain.invoke(input_data), summarized_context "
   ]
  },
  {
   "cell_type": "code",
   "execution_count": 59,
   "id": "0feae281-a8d0-497a-b3e7-dddad26331af",
   "metadata": {},
   "outputs": [],
   "source": [
    "out, s = chat_with_llm('Black hole mergers')"
   ]
  },
  {
   "cell_type": "code",
   "execution_count": 60,
   "id": "7efe3f24-8c08-4b4b-bcae-9fb6e75b6239",
   "metadata": {},
   "outputs": [
    {
     "data": {
      "text/plain": [
       "'Here is a summary of black hole mergers based on the provided context and sources:\\n\\n**Black Hole Mergers:**\\n\\nBlack hole mergers occur when two black holes in a binary system collide, releasing an immense amount of energy in the form of gravitational waves. This event is of great interest scientifically, as it provides a means to test the 2nd Law of Black Hole Thermodynamics and offers a chance to directly detect gravitational waves.\\n\\n**Formation of Binary Black Holes:**\\n\\nBinary black holes can form through the merger of high-mass binary star systems or through dynamic processes and mutual capture. They can also result from galactic mergers, leading to the formation of binary supermassive black holes.\\n\\n**Effects of Mergers:**\\n\\nDuring the merger process, the orbiting black holes emit gravitational waves, causing the orbit to decay and the orbital period to decrease. This stage is known as binary black hole inspiral. Once the black holes are close enough, they merge, and the single hole settles down to a stable form through a stage called ringdown, where any distortion in the shape is dissipated as more gravitational waves. In the final fraction of a second, the black holes can reach extremely high velocity, and the gravitational wave amplitude reaches its peak.\\n\\n**Detection and Confirmation:**\\n\\nThe existence of stellar-mass binary black holes and gravitational waves was confirmed by the Laser Interferometer Gravitational-Wave Observatory (LIGO) in 2015, with the detection of GW150914, a distinctive gravitational wave signature of two merging black holes.\\n\\n**Importance of Mergers:**\\n\\nBlack hole mergers play a crucial role in understanding the evolution of massive black holes, as they influence the occupancy of galaxy centers and leave a deeper imprint on the distribution of black hole spins than accretion does. The differences in accretion histories between elliptical and disc galaxies may reflect distinct spin distributions.\\n\\n**Research and Testing:**\\n\\nResearchers have used gravitational-wave data from binary black hole merger events to test the 2nd Law of Black Hole Thermodynamics, numerically verifying the law and analyzing the correlation between initial parameters and entropy to demonstrate its validity.'"
      ]
     },
     "execution_count": 60,
     "metadata": {},
     "output_type": "execute_result"
    }
   ],
   "source": [
    "out['answer']"
   ]
  },
  {
   "cell_type": "code",
   "execution_count": 61,
   "id": "479278d0-48cf-49bb-82c5-00c330bbeb1f",
   "metadata": {},
   "outputs": [
    {
     "data": {
      "text/plain": [
       "7839"
      ]
     },
     "execution_count": 61,
     "metadata": {},
     "output_type": "execute_result"
    }
   ],
   "source": [
    "len(str(s))"
   ]
  },
  {
   "cell_type": "code",
   "execution_count": 62,
   "id": "709c5758-4766-4657-9b5d-ac514bcd6dcc",
   "metadata": {},
   "outputs": [
    {
     "data": {
      "text/plain": [
       "[\"**ArXiv - Evolution of massive black holes**:\\n\\n        **Title:** Evolution of massive black holes\\n        **Authors:** Marta Volonteri\\n        **Published:** 2007-09-12\\n        **Abstract:** Supermassive black holes are nowadays believed to reside in most local\\ngalaxies. Accretion of gas and black hole mergers play a fundamental role in\\ndetermining the two parameters defining a black hole: mass and spin. I briefly\\nreview here some of the physical processes that are conducive to the evolution\\nof the massive black hole population. I'll discuss black hole formation\\nprocesses that are likely to place at early cosmic epochs, and how massive\\nblack hole evolve in a hierarchical Universe. The mass of the black holes that\\nwe detect today in nearby galaxy has mostly been accumulated by accretion of\\ngas. While black hole--black hole mergers do not contribute substantially to\\nthe final mass of massive black holes, they influence the occupancy of galaxy\\ncenters by black hole, owing to the chance of merging black holes being kicked\\nfrom their dwellings due to the gravitational recoil. Similarly, accretion\\nleaves a deeper imprint on the distribution of black hole spins than black hole\\nmergers do. The differences in accretion histories for black holes hosted in\\nelliptical or disc galaxies may reflect on different spin distributions.\\n        **PDF Summary:** Massive black holes (MBHs) play a crucial role in galaxy evolution. Their formation involves early cosmic processes and mergers. Accretion of gas and mergers influence their mass and spin distribution. Accretion dominates mass accumulation, while mergers affect the occupancy of galaxy centers. Differences in accretion histories between elliptical and disc galaxies may lead to distinct spin distributions. In a hierarchical Universe, MBHs form through mergers and co-evolve with their host galaxies. Gas-poor systems may experience three-body interactions with stars during the sub-parsec binary evolution phase.\\n        **PDF Link:** http://arxiv.org/pdf/0709.1722v2\\n        ...\",\n",
       " \"**ArXiv - Numerical Test and Analysis of the 2nd Law of Black Hole Thermodynamics with Gravitational-Wave Data from Binary Black Hole Merger Events**:\\n\\n        **Title:** Numerical Test and Analysis of the 2nd Law of Black Hole Thermodynamics with Gravitational-Wave Data from Binary Black Hole Merger Events\\n        **Authors:** Joan Sonnenberg\\n        **Published:** 2022-09-21\\n        **Abstract:** Gravitational-wave detections of black hole mergers in binary systems offer\\nan excellent opportunity to test the 2nd law of black hole thermodynamics. In\\nthis paper, we review how the entropy of any astrophysical black hole is\\ncalculated and we use LIGO and VIRGO's mass and spin data measurements from\\nblack hole merger events detected over the past years to perform entropy\\ncalculations and numerically test the generalized 2nd law of thermodynamics.\\nBesides, we analyze the mathematical correlation between the black hole merger\\nevent's initial parameters to prove and conclude that the theorem will always\\nhold.\\n        **PDF Summary:** This research paper tests the 2nd Law of Black Hole Thermodynamics using gravitational-wave data from binary black hole merger events. The law states that the entropy of the final black hole formed from a merger should be greater than or equal to the sum of the entropies of the initial black holes. The authors calculate the entropies of black holes based on their mass and angular momentum, using data from LIGO and VIRGO. They numerically verify the law and analyze the correlation between initial parameters and entropy to demonstrate its validity.\\n        **PDF Link:** http://arxiv.org/pdf/2209.11683v1\\n        ...\",\n",
       " '**Wikipedia - Binary black hole**:\\nA binary black hole (BBH), or black hole binary, is a system consisting of two black holes in close orbit around each other. Like black holes themselves, binary black holes are often divided into binary stellar black holes, formed either as remnants of high-mass binary star systems or by dynamic processes and mutual capture; and binary supermassive black holes, believed to be a result of galactic mergers.\\nFor many years, proving the existence of binary black holes was made difficult because of the nature of black holes themselves and the limited means of detection available. However, in the event that a pair of black holes were to merge, an immense amount of energy should be given off as gravitational waves, with distinctive waveforms that can be calculated using general relativity. Therefore, during the late 20th and early 21st century, binary black holes became of great interest scientifically as a potential source of such waves and a means by which gravitational waves could be proven to exist. Binary black hole mergers would be one of the strongest known sources of gravitational waves in the universe, and thus offer a good chance of directly detecting such waves. As the orbiting black holes give off these waves, the orbit decays, and the orbital period decreases. This stage is called binary black hole inspiral. The black holes will merge once they are close enough. Once merged, the single hole settles down to a stable form, via a stage called ringdown, where any distortion in the shape is dissipated as more gravitational waves. In the final fraction of a second the black holes can reach extremely high velocity, and the gravitational wave amplitude reaches its peak.\\nThe existence of stellar-mass binary black holes (and gravitational waves themselves) was finally confirmed when the Laser Interferometer Gravitational-Wave Observatory (LIGO) detected GW150914 (detected September 2015, announced February 2016), a distinctive gravitational wave signature of two merging...',\n",
       " '**Wikipedia - Black hole**:\\nA black hole is a region of spacetime where gravity is so strong that nothing, not even light, can escape it. Albert Einstein\\'s theory of general relativity predicts that a sufficiently compact mass can deform spacetime to form a black hole. The boundary of no escape is called the event horizon. A black hole has a great effect on the fate and circumstances of an object crossing it, but has no locally detectable features according to general relativity. In many ways, a black hole acts like an ideal black body, as it reflects no light. Quantum field theory in curved spacetime predicts that event horizons emit Hawking radiation, with the same spectrum as a black body of a temperature inversely proportional to its mass. This temperature is of the order of billionths of a kelvin for stellar black holes, making it essentially impossible to observe directly.\\nObjects whose gravitational fields are too strong for light to escape was first considered in the 18th century by John Michell and Pierre-Simon Laplace. In 1916, Karl Schwarzschild found the first modern solution of general relativity that would characterise a black hole. Due to his influential research, the Schwarzschild metric is named after him. David Finkelstein, in 1958, first published the interpretation of \"black hole\" as a region of space from which nothing can escape. Black holes were long considered a mathematical curiosity; it was not until the 1960s that theoretical work showed they were a generic prediction of general relativity. The discovery of neutron stars by Jocelyn Bell Burnell in 1967 sparked interest in gravitationally collapsed compact objects as a possible astrophysical reality. The first black hole known was Cygnus X-1, identified by several researchers independently in 1971.\\nBlack holes of stellar mass form when massive stars collapse at the end of their life cycle. After a black hole has formed, it can grow by absorbing mass from its surroundings. Supermassive black holes of millions of solar ...']"
      ]
     },
     "execution_count": 62,
     "metadata": {},
     "output_type": "execute_result"
    }
   ],
   "source": [
    "s"
   ]
  },
  {
   "cell_type": "code",
   "execution_count": null,
   "id": "553d95a3-69ab-4f13-98c7-c6a5945fbd8c",
   "metadata": {},
   "outputs": [],
   "source": []
  },
  {
   "cell_type": "code",
   "execution_count": null,
   "id": "37338ffe-cee8-4332-83c2-a9f3b545ec64",
   "metadata": {},
   "outputs": [],
   "source": []
  }
 ],
 "metadata": {
  "kernelspec": {
   "display_name": "Python 3 (ipykernel)",
   "language": "python",
   "name": "python3"
  },
  "language_info": {
   "codemirror_mode": {
    "name": "ipython",
    "version": 3
   },
   "file_extension": ".py",
   "mimetype": "text/x-python",
   "name": "python",
   "nbconvert_exporter": "python",
   "pygments_lexer": "ipython3",
   "version": "3.12.2"
  }
 },
 "nbformat": 4,
 "nbformat_minor": 5
}
